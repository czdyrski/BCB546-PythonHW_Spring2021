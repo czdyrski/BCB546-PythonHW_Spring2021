{
 "cells": [
  {
   "cell_type": "markdown",
   "id": "eafab909",
   "metadata": {},
   "source": [
    "Christopher Zdyrski Python Assignment"
   ]
  },
  {
   "cell_type": "markdown",
   "id": "0114a7fd",
   "metadata": {},
   "source": [
    "Install and import necessary packages"
   ]
  },
  {
   "cell_type": "code",
   "execution_count": 72,
   "id": "8058145e",
   "metadata": {},
   "outputs": [],
   "source": [
    "#Confirm that biopython and seaborn are installed and up to date\n",
    "\n",
    "from Bio import SeqIO\n",
    "from Bio.Data import CodonTable\n",
    "import pandas as pd\n",
    "import matplotlib.pyplot as plt"
   ]
  },
  {
   "cell_type": "markdown",
   "id": "61fd5ada",
   "metadata": {},
   "source": [
    "Function #1 Retrieve Sequences\n",
    "It gets sequence data from a fasta file type"
   ]
  },
  {
   "cell_type": "code",
   "execution_count": 73,
   "id": "304db237",
   "metadata": {},
   "outputs": [],
   "source": [
    "def get_sequences_from_file(fasta_fn):\n",
    "    sequence_data_dict = {}\n",
    "    \n",
    "    for record in SeqIO.parse(fasta_fn, \"fasta\"):\n",
    "        description = record.description.split()\n",
    "        species_name = description[1] + \" \" + description[2]\n",
    "        sequence_data_dict[species_name] = record.seq\n",
    "        \n",
    "    return(sequence_data_dict)"
   ]
  },
  {
   "cell_type": "markdown",
   "id": "93196c39",
   "metadata": {},
   "source": [
    "Function #2 String translates a string of nucleotides to amino acids"
   ]
  },
  {
   "cell_type": "code",
   "execution_count": 74,
   "id": "eb71a25f",
   "metadata": {},
   "outputs": [
    {
     "ename": "SyntaxError",
     "evalue": "invalid syntax (<ipython-input-74-d9db75cbf641>, line 12)",
     "output_type": "error",
     "traceback": [
      "\u001b[1;36m  File \u001b[1;32m\"<ipython-input-74-d9db75cbf641>\"\u001b[1;36m, line \u001b[1;32m12\u001b[0m\n\u001b[1;33m    for\u001b[0m\n\u001b[1;37m        ^\u001b[0m\n\u001b[1;31mSyntaxError\u001b[0m\u001b[1;31m:\u001b[0m invalid syntax\n"
     ]
    }
   ],
   "source": [
    "def translate_function(string_nucleotides): \n",
    "    \n",
    "    mito_table = CodonTable.unambiguous_dna_by_name[\"Vertebrate Mitochondrial\"]\n",
    "    \n",
    "    #Make a blank variable to hold amino acid seqence\n",
    "    aa_seq_string = \"\"\n",
    "    \n",
    "    #set index to 0\n",
    "    index = 0\n",
    "    \n",
    "    #For loop to cycle through each codon do this by groups of 3's\n",
    "    for \n",
    "    \n",
    "        if aa == \"Stop\":\n",
    "            break\n",
    "            \n",
    "   # this is how you  retrieve the amino acid: mito_table.forward_table[codon]\n",
    "        else:\n",
    "            aa_seq_string = aa_seq_string + mito_table.forward_table[codon]\n",
    "            \n",
    "    return(aa_seq_string)"
   ]
  },
  {
   "cell_type": "code",
   "execution_count": null,
   "id": "624d27f2",
   "metadata": {},
   "outputs": [],
   "source": [
    "mito_table = CodonTable.unambiguous_dna_by_name[\"Vertebrate Mitochondrial\"]\n"
   ]
  },
  {
   "cell_type": "code",
   "execution_count": null,
   "id": "2df87cd4",
   "metadata": {},
   "outputs": [],
   "source": [
    "print(mito_table)\n"
   ]
  },
  {
   "cell_type": "code",
   "execution_count": null,
   "id": "6624e03f",
   "metadata": {},
   "outputs": [],
   "source": []
  },
  {
   "cell_type": "markdown",
   "id": "cfc695fb",
   "metadata": {},
   "source": [
    "Function #3 Alternative translation function "
   ]
  },
  {
   "cell_type": "code",
   "execution_count": 92,
   "id": "6861b724",
   "metadata": {},
   "outputs": [],
   "source": [
    "from Bio.Seq import Seq\n",
    "\n",
    "#Biopython tutorial and help\n",
    "#https://biopython.org/docs/1.75/api/Bio.Seq.html\n",
    "\n",
    "def alternative_translation_function(string_nucleotides): \n",
    "    \n",
    "    dna_sequence = Seq(string_nucleotides)\n",
    "    aa_seq_string = dna_sequence.translate()\n",
    "    return(aa_seq_string)"
   ]
  },
  {
   "cell_type": "code",
   "execution_count": 96,
   "id": "066009d1",
   "metadata": {},
   "outputs": [
    {
     "ename": "TypeError",
     "evalue": "'function' object is not subscriptable",
     "output_type": "error",
     "traceback": [
      "\u001b[1;31m---------------------------------------------------------------------------\u001b[0m",
      "\u001b[1;31mTypeError\u001b[0m                                 Traceback (most recent call last)",
      "\u001b[1;32m<ipython-input-96-fccc1c6b5f99>\u001b[0m in \u001b[0;36m<module>\u001b[1;34m\u001b[0m\n\u001b[0;32m      1\u001b[0m \u001b[1;31m#test\u001b[0m\u001b[1;33m\u001b[0m\u001b[1;33m\u001b[0m\u001b[1;33m\u001b[0m\u001b[0m\n\u001b[0;32m      2\u001b[0m \u001b[0malternative_translation_function\u001b[0m\u001b[1;33m(\u001b[0m\u001b[1;34m\"TATTTTAGCAGTACG\"\u001b[0m\u001b[1;33m)\u001b[0m\u001b[1;33m\u001b[0m\u001b[1;33m\u001b[0m\u001b[0m\n\u001b[1;32m----> 3\u001b[1;33m \u001b[0malternative_translation_function\u001b[0m\u001b[1;33m[\u001b[0m\u001b[1;34m\"Vertebrate Mitochondrial\"\u001b[0m\u001b[1;33m]\u001b[0m\u001b[1;33m\u001b[0m\u001b[1;33m\u001b[0m\u001b[0m\n\u001b[0m",
      "\u001b[1;31mTypeError\u001b[0m: 'function' object is not subscriptable"
     ]
    }
   ],
   "source": [
    "#test\n",
    "alternative_translation_function(\"TATTTTAGCAGTACG\")\n",
    "alternative_translation_function[\"Vertebrate Mitochondrial\"]"
   ]
  },
  {
   "cell_type": "code",
   "execution_count": null,
   "id": "459999d5",
   "metadata": {},
   "outputs": [],
   "source": []
  },
  {
   "cell_type": "markdown",
   "id": "18e2174b",
   "metadata": {},
   "source": [
    "Function #4 Calculates the molecular weight of each amino acid sequence"
   ]
  },
  {
   "cell_type": "code",
   "execution_count": null,
   "id": "c12b0ad6",
   "metadata": {},
   "outputs": [],
   "source": [
    "#It takes in an amino acid sequence as a strong and outputs a moleuclar weight as a double\n",
    "from Bio.SeqUtils.ProtParam import ProteinAnalysis\n",
    "def compute_molecular_weight(aa_seq):\n",
    "    \n",
    "        #The ProtParam functions requires aa_seq to be a string\n",
    "        #Ran the ProteinAnalysis() function on aa_seq\n",
    "        protein_analysis_output = ProteinAnalysis(str(aa_seq))\n",
    "\n",
    "        mol_weight = protein_analysis_output.molecular_weight()\n",
    "        \n",
    "        #Return the molecular weight\n",
    "        return(mol_weight)"
   ]
  },
  {
   "cell_type": "markdown",
   "id": "be034c8f",
   "metadata": {},
   "source": [
    "Function #5 Computes the GC-content of each DNA sequence"
   ]
  },
  {
   "cell_type": "code",
   "execution_count": 124,
   "id": "4c2b9c22",
   "metadata": {},
   "outputs": [],
   "source": [
    "#It takes a DNA sequence and returns the GC content as a double\n",
    "#setup loop from this resource\n",
    "#https://www.w3schools.com/python/python_for_loops.asp\n",
    "\n",
    "def compute_gc_content(dna_seq):\n",
    "    \n",
    "    gc_total = 0\n",
    "    \n",
    "    for i in dna_seq:\n",
    "\n",
    "        if (i == \"G\" or i == \"C\"):\n",
    "            gc_total = gc_total + 1\n",
    "            continue\n",
    "        else:\n",
    "            continue\n",
    "\n",
    "    print(gc_total)\n",
    "    #Divide the total GC content by the length of the DNA sequence and multiply it by 100\n",
    "    gc_content = ((gc_total) / (len(dna_seq))) * 100\n",
    "    \n",
    "    #Rerturn the proprotion of GC in the total sequence\n",
    "    return(gc_content)"
   ]
  },
  {
   "cell_type": "code",
   "execution_count": 125,
   "id": "503fdd88",
   "metadata": {},
   "outputs": [
    {
     "name": "stdout",
     "output_type": "stream",
     "text": [
      "0\n"
     ]
    },
    {
     "data": {
      "text/plain": [
       "0.0"
      ]
     },
     "execution_count": 125,
     "metadata": {},
     "output_type": "execute_result"
    }
   ],
   "source": [
    "#test\n",
    "cytb_seqs = get_sequences_from_file('bears_cytb.fasta') \n",
    "\n",
    "compute_gc_content(cytb_seqs)"
   ]
  },
  {
   "cell_type": "markdown",
   "id": "02cb0d48",
   "metadata": {},
   "source": [
    "Main"
   ]
  },
  {
   "cell_type": "code",
   "execution_count": 80,
   "id": "fc389e7b",
   "metadata": {},
   "outputs": [
    {
     "name": "stdout",
     "output_type": "stream",
     "text": [
      "{'Ursus spelaeus': Seq('ATGACCAACATCCGAAAAACCCATCCATTAGCTAAAATCATCAACAACTCATTT...AGA'), 'Ursus arctos': Seq('ATGACCAACATCCGAAAAACCCACCCATTAGCTAAAATCATCAACAACTCACTT...AGA'), 'Ursus thibetanus': Seq('ATGACCAACATCCGAAAAACCCATCCATTAGCCAAAATCATCAACAACTCACTC...AGA'), 'Melursus ursinus': Seq('ATGACCAACATCCGAAAAACCCACCCATTAGCTAAAATCATTAACAACTCACTC...AGA'), 'Ursus americanus': Seq('ATGACCAACATCCGAAAAACCCACCCATTAGCTAAAATCATCAACAACTCACTT...AGA'), 'Helarctos malayanus': Seq('ATGACCAACATCCGAAAAACCCACCCATTAGCTAAAATCATTAACAACTCACTT...AGA'), 'Ailuropoda melanoleuca': Seq('ATGATCAACATCCGAAAAACTCATCCATTAGTTAAAATTATCAACAACTCATTC...AGA'), 'Tremarctos ornatus': Seq('ATGACCAACATCCGAAAAACTCACCCACTAGCTAAAATCATCAACAGCTCATTC...AGA'), 'Ursus maritimus': Seq('ATGACCAACATCCGAAAAACCCACCCATTAGCTAAAATCATCAACAACTCATTT...AGA')}\n"
     ]
    },
    {
     "ename": "AttributeError",
     "evalue": "'dict' object has no attribute 'count'",
     "output_type": "error",
     "traceback": [
      "\u001b[1;31m---------------------------------------------------------------------------\u001b[0m",
      "\u001b[1;31mAttributeError\u001b[0m                            Traceback (most recent call last)",
      "\u001b[1;32m<ipython-input-80-0ffeb06c2164>\u001b[0m in \u001b[0;36m<module>\u001b[1;34m\u001b[0m\n\u001b[0;32m      7\u001b[0m \u001b[0mspecies_list\u001b[0m \u001b[1;33m=\u001b[0m \u001b[0mlist\u001b[0m\u001b[1;33m(\u001b[0m\u001b[0mbears_df\u001b[0m\u001b[1;33m.\u001b[0m\u001b[0mspecies\u001b[0m\u001b[1;33m)\u001b[0m\u001b[1;33m\u001b[0m\u001b[1;33m\u001b[0m\u001b[0m\n\u001b[0;32m      8\u001b[0m \u001b[1;33m\u001b[0m\u001b[0m\n\u001b[1;32m----> 9\u001b[1;33m \u001b[0mprint\u001b[0m\u001b[1;33m(\u001b[0m\u001b[0mcytb_seqs\u001b[0m\u001b[1;33m.\u001b[0m\u001b[0mcount\u001b[0m\u001b[1;33m(\u001b[0m\u001b[1;34m'G'\u001b[0m\u001b[1;33m)\u001b[0m\u001b[1;33m)\u001b[0m\u001b[1;33m\u001b[0m\u001b[1;33m\u001b[0m\u001b[0m\n\u001b[0m",
      "\u001b[1;31mAttributeError\u001b[0m: 'dict' object has no attribute 'count'"
     ]
    }
   ],
   "source": [
    "cytb_seqs = get_sequences_from_file('bears_cytb.fasta') \n",
    "\n",
    "#to check it works\n",
    "print(cytb_seqs)\n",
    "\n",
    "bears_df = pd.read_csv('bears_mass.csv') # Includes only data for body mass \n",
    "species_list = list(bears_df.species)\n",
    "\n",
    "print(cytb_seqs.count('G'))\n"
   ]
  },
  {
   "cell_type": "markdown",
   "id": "b707991d",
   "metadata": {},
   "source": [
    "Step 6: Add columns"
   ]
  },
  {
   "cell_type": "code",
   "execution_count": null,
   "id": "21b5070a",
   "metadata": {},
   "outputs": [],
   "source": []
  },
  {
   "cell_type": "markdown",
   "id": "2ca38eaf",
   "metadata": {},
   "source": [
    "Step 7: For loop"
   ]
  },
  {
   "cell_type": "code",
   "execution_count": null,
   "id": "4aaf5f69",
   "metadata": {},
   "outputs": [],
   "source": []
  },
  {
   "cell_type": "code",
   "execution_count": null,
   "id": "ccb40fef",
   "metadata": {},
   "outputs": [],
   "source": [
    "#Need this in order to plot in Jupyther notebook or Spyder\n",
    "%matplotlib inline"
   ]
  },
  {
   "cell_type": "markdown",
   "id": "09be1ba4",
   "metadata": {},
   "source": [
    "Step 8: Bar-chart"
   ]
  },
  {
   "cell_type": "code",
   "execution_count": null,
   "id": "3d3ba2bb",
   "metadata": {},
   "outputs": [],
   "source": [
    "bears_df.plot(x = \"species\", y = \"mass\", kind = \"bar\", title = \"Mass of each Bear Species\")"
   ]
  },
  {
   "attachments": {},
   "cell_type": "markdown",
   "id": "668c9f88",
   "metadata": {},
   "source": [
    "Q1: What is the largest bear species?\n",
    "#The largest species of bear is Ursus spelaeous with a mass of 550.8.\n",
    "Q2: What else is interesting about this species?\n",
    "Q2: Its is also interesting that this species ________."
   ]
  },
  {
   "cell_type": "markdown",
   "id": "28f9ca7c",
   "metadata": {},
   "source": [
    "Step 9: Plot"
   ]
  },
  {
   "cell_type": "code",
   "execution_count": null,
   "id": "22d8f1ab",
   "metadata": {},
   "outputs": [],
   "source": [
    "bears_df.plot(x = \"gc_content\", y = \"mol_weight\", kind = \"bar\", title = \"Molecular weight vs GC content across Bear Species\")"
   ]
  },
  {
   "cell_type": "markdown",
   "id": "f6f93c5e",
   "metadata": {},
   "source": [
    "Step 10: New Dataframe"
   ]
  },
  {
   "cell_type": "code",
   "execution_count": null,
   "id": "b39b3289",
   "metadata": {},
   "outputs": [],
   "source": [
    "bears_df.to_csv(\"bears_mass_cytb.csv\")"
   ]
  },
  {
   "cell_type": "markdown",
   "id": "6d0c19f2",
   "metadata": {},
   "source": [
    "Step 11: Bonus"
   ]
  },
  {
   "cell_type": "code",
   "execution_count": null,
   "id": "73564096",
   "metadata": {},
   "outputs": [],
   "source": [
    "#Some other interesting things that can be done include \n",
    "#Splitting each Fasta line into its own file\n",
    "#Scanning the Fasta seqeunces for certain genetic factors (repeats, inverted terminal repeats aka transposons)"
   ]
  }
 ],
 "metadata": {
  "kernelspec": {
   "display_name": "Python 3",
   "language": "python",
   "name": "python3"
  },
  "language_info": {
   "codemirror_mode": {
    "name": "ipython",
    "version": 3
   },
   "file_extension": ".py",
   "mimetype": "text/x-python",
   "name": "python",
   "nbconvert_exporter": "python",
   "pygments_lexer": "ipython3",
   "version": "3.8.8"
  }
 },
 "nbformat": 4,
 "nbformat_minor": 5
}
