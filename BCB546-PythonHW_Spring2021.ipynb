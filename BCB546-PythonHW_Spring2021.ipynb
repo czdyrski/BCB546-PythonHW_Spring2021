{
 "cells": [
  {
   "cell_type": "markdown",
   "id": "eafab909",
   "metadata": {},
   "source": [
    "Christopher Zdyrski Python Assignment\n",
    "Due: 5/5/2021\n",
    "Github repository with neccesary files\n",
    "https://github.com/czdyrski/BCB546-PythonHW_Spring2021"
   ]
  },
  {
   "cell_type": "markdown",
   "id": "0114a7fd",
   "metadata": {},
   "source": [
    "Install and import necessary packages"
   ]
  },
  {
   "cell_type": "code",
   "execution_count": 229,
   "id": "8058145e",
   "metadata": {},
   "outputs": [],
   "source": [
    "#Confirm that python, biopython, and seaborn are installed and up to date\n",
    "#import packages\n",
    "from Bio import SeqIO\n",
    "from Bio.Data import CodonTable\n",
    "from Bio.Seq import Seq\n",
    "from Bio.SeqUtils.ProtParam import ProteinAnalysis\n",
    "import pandas as pd\n",
    "import matplotlib.pyplot as plt"
   ]
  },
  {
   "cell_type": "markdown",
   "id": "61fd5ada",
   "metadata": {},
   "source": [
    "Function #1 Retrieve Sequences\n",
    "It gets sequence data from a fasta file type"
   ]
  },
  {
   "cell_type": "code",
   "execution_count": 230,
   "id": "304db237",
   "metadata": {},
   "outputs": [],
   "source": [
    "def get_sequences_from_file(fasta_fn):\n",
    "    sequence_data_dict = {}\n",
    "    \n",
    "    for record in SeqIO.parse(fasta_fn, \"fasta\"):\n",
    "        description = record.description.split()\n",
    "        species_name = description[1] + \" \" + description[2]\n",
    "        sequence_data_dict[species_name] = record.seq\n",
    "        \n",
    "    return(sequence_data_dict)"
   ]
  },
  {
   "cell_type": "markdown",
   "id": "93196c39",
   "metadata": {},
   "source": [
    "Function #2 String translates a string of nucleotides to amino acids"
   ]
  },
  {
   "cell_type": "code",
   "execution_count": 231,
   "id": "eb71a25f",
   "metadata": {},
   "outputs": [],
   "source": [
    "def translate_function(string_nucleotides): \n",
    "    \n",
    "    mito_table = CodonTable.unambiguous_dna_by_name[\"Vertebrate Mitochondrial\"]\n",
    "    \n",
    "    #Make a blank variable to hold amino acid seqence\n",
    "    #For loop to cycle through each codon do this by groups of 3's\n",
    "\n",
    "    raw_codon = [string_nucleotides[i:i+3] for i in range(0, len(string_nucleotides), 3)]\n",
    "    \n",
    "    aa_seq_string = []\n",
    "                                                                                 \n",
    "    #For loop to search for the word \"stop\" codon\n",
    "    for location in raw_codon:\n",
    "        aa = mito_table.forward_table.get(location, \"Stop\")\n",
    "        if aa == \"Stop\":\n",
    "            break\n",
    "        else:\n",
    "            aa_seq_string.append(aa)\n",
    "\n",
    "    #Saw how to concatenate the list on Stack Overflow\n",
    "    #https://stackoverflow.com/questions/4166641/how-can-i-optimally-concat-a-list-of-chars-to-a-string\n",
    "    \n",
    "    #Return amino acids translated from nucleotides\n",
    "    return(''.join(aa_seq_string))       "
   ]
  },
  {
   "cell_type": "markdown",
   "id": "cfc695fb",
   "metadata": {},
   "source": [
    "Function #3 Alternative translation function "
   ]
  },
  {
   "cell_type": "code",
   "execution_count": 232,
   "id": "6861b724",
   "metadata": {},
   "outputs": [],
   "source": [
    "#CHECK THIS FUNCTION\n",
    "#Biopython tutorial and help\n",
    "#https://biopython.org/docs/1.75/api/Bio.Seq.html\n",
    "\n",
    "def alternative_translation_function(string_nucleotides): \n",
    "    \n",
    "    #For the table option and to_stop\n",
    "    #https://biopython.org/wiki/Seq\n",
    "    x = string_nucleotides.translate(table=2, to_stop=True)\n",
    "    \n",
    "    return(x)"
   ]
  },
  {
   "cell_type": "code",
   "execution_count": 233,
   "id": "7cb5b006",
   "metadata": {},
   "outputs": [
    {
     "data": {
      "text/plain": [
       "'YFIFLQY'"
      ]
     },
     "execution_count": 233,
     "metadata": {},
     "output_type": "execute_result"
    }
   ],
   "source": [
    "#test\n",
    "test = \"TATTTTATTTTTTTGCAGTACG\"\n",
    "translate_function(test)\n"
   ]
  },
  {
   "cell_type": "markdown",
   "id": "18e2174b",
   "metadata": {},
   "source": [
    "Function #4 Calculates the molecular weight of each amino acid sequence"
   ]
  },
  {
   "cell_type": "code",
   "execution_count": 234,
   "id": "c12b0ad6",
   "metadata": {},
   "outputs": [],
   "source": [
    "#Function takes in an amino acid sequence as a strong and outputs a moleuclar weight as a double\n",
    "def compute_molecular_weight(aa_seq):\n",
    "    \n",
    "        #The ProtParam functions requires aa_seq to be a string\n",
    "        #Ran the ProteinAnalysis() function on aa_seq\n",
    "        protein_analysis_output = ProteinAnalysis(str(aa_seq))\n",
    "\n",
    "        mol_weight = protein_analysis_output.molecular_weight()\n",
    "        \n",
    "        #Return the molecular weight\n",
    "        return(mol_weight)"
   ]
  },
  {
   "cell_type": "markdown",
   "id": "be034c8f",
   "metadata": {},
   "source": [
    "Function #5 Computes the GC-content of each DNA sequence"
   ]
  },
  {
   "cell_type": "code",
   "execution_count": 235,
   "id": "4c2b9c22",
   "metadata": {},
   "outputs": [],
   "source": [
    "#Function takes in a DNA sequence and returns the GC content as a double\n",
    "#Setup loop from this resource\n",
    "#https://www.w3schools.com/python/python_for_loops.asp\n",
    "\n",
    "def compute_gc_content(dna_seq):\n",
    "    \n",
    "    i = 0\n",
    "    gc_total = 0\n",
    "    \n",
    "    for i in dna_seq:\n",
    "\n",
    "        #Count if nucleotide is either G or C\n",
    "        if ((i == \"G\") or (i == \"C\")):\n",
    "            gc_total = gc_total + 1\n",
    "\n",
    "    #Divide the total GC content by the length of the DNA sequence and multiply it by 100\n",
    "    gc_content = ((gc_total) / (len(dna_seq))) * 100\n",
    "    \n",
    "    #Rerturn the proprotion of GC in the total sequence\n",
    "    return(gc_content)"
   ]
  },
  {
   "cell_type": "markdown",
   "id": "02cb0d48",
   "metadata": {},
   "source": [
    "Main"
   ]
  },
  {
   "cell_type": "code",
   "execution_count": 236,
   "id": "fc389e7b",
   "metadata": {},
   "outputs": [],
   "source": [
    "cytb_seqs = get_sequences_from_file(\"bears_cytb.fasta\") \n",
    "\n",
    "bears_df = pd.read_csv(\"bears_mass.csv\") # Includes only data for body mass \n",
    "species_list = list(bears_df.species)"
   ]
  },
  {
   "cell_type": "markdown",
   "id": "b707991d",
   "metadata": {},
   "source": [
    "Step 6: Add columns"
   ]
  },
  {
   "cell_type": "code",
   "execution_count": 237,
   "id": "21b5070a",
   "metadata": {},
   "outputs": [
    {
     "name": "stdout",
     "output_type": "stream",
     "text": [
      "                  species     mass\n",
      "0          Ursus spelaeus  550.800\n",
      "1            Ursus arctos  203.500\n",
      "2        Ursus thibetanus   99.714\n",
      "3        Melursus ursinus  100.030\n",
      "4        Ursus americanus  110.560\n",
      "5     Helarctos malayanus   47.020\n",
      "6  Ailuropoda melanoleuca  118.200\n",
      "7      Tremarctos ornatus  140.700\n",
      "8         Ursus maritimus  425.100\n",
      "                  species     mass Molecular_Weight GC_content\n",
      "0          Ursus spelaeus  550.800              NaN        NaN\n",
      "1            Ursus arctos  203.500              NaN        NaN\n",
      "2        Ursus thibetanus   99.714              NaN        NaN\n",
      "3        Melursus ursinus  100.030              NaN        NaN\n",
      "4        Ursus americanus  110.560              NaN        NaN\n",
      "5     Helarctos malayanus   47.020              NaN        NaN\n",
      "6  Ailuropoda melanoleuca  118.200              NaN        NaN\n",
      "7      Tremarctos ornatus  140.700              NaN        NaN\n",
      "8         Ursus maritimus  425.100              NaN        NaN\n"
     ]
    }
   ],
   "source": [
    "#Used this reosurce to add new column quickly\n",
    "#https://re-thought.com/how-to-add-new-columns-in-a-dataframe-in-pandas/\n",
    "\n",
    "print(bears_df)\n",
    "bears_df['Molecular_Weight'] = 'NaN'\n",
    "bears_df['GC_content'] = 'NaN'\n",
    "print(bears_df)"
   ]
  },
  {
   "cell_type": "markdown",
   "id": "2ca38eaf",
   "metadata": {},
   "source": [
    "Step 7: For loop"
   ]
  },
  {
   "cell_type": "code",
   "execution_count": 238,
   "id": "4aaf5f69",
   "metadata": {},
   "outputs": [
    {
     "name": "stdout",
     "output_type": "stream",
     "text": [
      "                  species     mass Molecular_Weight GC_content\n",
      "0          Ursus spelaeus  550.800       42458.7992   43.77193\n",
      "1            Ursus arctos  203.500       42414.7435   43.77193\n",
      "2        Ursus thibetanus   99.714       42306.6735  45.614035\n",
      "3        Melursus ursinus  100.030         42551.99  45.175439\n",
      "4        Ursus americanus  110.560       42427.7439  43.947368\n",
      "5     Helarctos malayanus   47.020        42560.891  44.298246\n",
      "6  Ailuropoda melanoleuca  118.200       42702.1845  40.789474\n",
      "7      Tremarctos ornatus  140.700       42384.8266  44.385965\n",
      "8         Ursus maritimus  425.100       42454.7873  44.298246\n"
     ]
    }
   ],
   "source": [
    "#Initialize row variable to the first row\n",
    "row = 0\n",
    "\n",
    "for key, value in cytb_seqs.items():\n",
    "    \n",
    "    aa_seq = translate_function(value)\n",
    "    #aa_seq = alternative_translation_function(value)\n",
    "    \n",
    "    #get the molecular weight of aa_seq and fills in dataframe\n",
    "    calculated_mol_weight = compute_molecular_weight(aa_seq)\n",
    "    bears_df.loc[row, \"Molecular_Weight\"] = calculated_mol_weight\n",
    "    \n",
    "    #get the GC content of the DNA sequence and fills in dataframe\n",
    "    calculated_gc_content = compute_gc_content(value)\n",
    "    bears_df.loc[row, \"GC_content\"] = calculated_gc_content\n",
    "    \n",
    "    #iterate through the rows\n",
    "    row = row + 1\n",
    "\n",
    "    #View dataframe\n",
    "print(bears_df)"
   ]
  },
  {
   "cell_type": "code",
   "execution_count": 239,
   "id": "5f10428a",
   "metadata": {},
   "outputs": [],
   "source": [
    "#Need this line in order to plot in Jupyter notebook or Spyder\n",
    "#Used the class resource website\n",
    "#https://eeob-biodata.github.io/BCB546X-python/05-seaborn-viz/\n",
    "\n",
    "%matplotlib inline"
   ]
  },
  {
   "cell_type": "markdown",
   "id": "09be1ba4",
   "metadata": {},
   "source": [
    "Step 8: Bar-chart"
   ]
  },
  {
   "cell_type": "code",
   "execution_count": 240,
   "id": "3d3ba2bb",
   "metadata": {},
   "outputs": [
    {
     "data": {
      "text/plain": [
       "<AxesSubplot:title={'center':'Mass of each Bear Species'}, xlabel='species'>"
      ]
     },
     "execution_count": 240,
     "metadata": {},
     "output_type": "execute_result"
    },
    {
     "data": {
      "image/png": "[encoded data removed]",
      "text/plain": [
       "<Figure size 432x288 with 1 Axes>"
      ]
     },
     "metadata": {
      "needs_background": "light"
     },
     "output_type": "display_data"
    }
   ],
   "source": [
    "bears_df.plot(x = \"species\", y = \"mass\", kind = \"bar\", title = \"Mass of each Bear Species\")"
   ]
  },
  {
   "cell_type": "markdown",
   "id": "668c9f88",
   "metadata": {},
   "source": [
    "Q1: What is the largest bear species?\n",
    "#The largest species of bear is Ursus spelaeous with a mass of 550.8.\n",
    "Q2: What else is interesting about this species?\n",
    "Q2: Its is also interesting that this species went extinct but in 2013 researhcers were able to sequence mitochondrial DNA from a bone fragmetn of an indivdual which dated back more than 300,000 years.\n",
    "#Source https://www.britannica.com/animal/cave-bear"
   ]
  },
  {
   "cell_type": "markdown",
   "id": "28f9ca7c",
   "metadata": {},
   "source": [
    "Step 9: Plot"
   ]
  },
  {
   "cell_type": "code",
   "execution_count": 241,
   "id": "22d8f1ab",
   "metadata": {},
   "outputs": [
    {
     "data": {
      "text/plain": [
       "<AxesSubplot:title={'center':'Molecular weight vs GC content across Bear Species'}, xlabel='Molecular_Weight', ylabel='GC_content'>"
      ]
     },
     "execution_count": 241,
     "metadata": {},
     "output_type": "execute_result"
    },
    {
     "data": {
      "image/png": "[encoded data removed]",
      "text/plain": [
       "<Figure size 432x288 with 1 Axes>"
      ]
     },
     "metadata": {
      "needs_background": "light"
     },
     "output_type": "display_data"
    }
   ],
   "source": [
    "bears_df.plot(x = \"Molecular_Weight\", y = \"GC_content\", kind = \"scatter\", title = \"Molecular weight vs GC content across Bear Species\")"
   ]
  },
  {
   "cell_type": "markdown",
   "id": "f6f93c5e",
   "metadata": {},
   "source": [
    "Step 10: New Dataframe"
   ]
  },
  {
   "cell_type": "code",
   "execution_count": 242,
   "id": "b39b3289",
   "metadata": {},
   "outputs": [],
   "source": [
    "bears_df.to_csv(\"bears_mass_cytb.csv\")"
   ]
  },
  {
   "cell_type": "markdown",
   "id": "6d0c19f2",
   "metadata": {},
   "source": [
    "Step 11: Bonus"
   ]
  },
  {
   "cell_type": "code",
   "execution_count": 243,
   "id": "73564096",
   "metadata": {},
   "outputs": [],
   "source": [
    "#Some other interesting things that can be done include \n",
    "#Splitting each Fasta line into its own file\n",
    "#Scanning the Fasta seqeunces for certain genetic factors (repeats, inverted terminal repeats aka transposons)"
   ]
  }
 ],
 "metadata": {
  "kernelspec": {
   "display_name": "Python 3",
   "language": "python",
   "name": "python3"
  },
  "language_info": {
   "codemirror_mode": {
    "name": "ipython",
    "version": 3
   },
   "file_extension": ".py",
   "mimetype": "text/x-python",
   "name": "python",
   "nbconvert_exporter": "python",
   "pygments_lexer": "ipython3",
   "version": "3.8.8"
  }
 },
 "nbformat": 4,
 "nbformat_minor": 5
}
