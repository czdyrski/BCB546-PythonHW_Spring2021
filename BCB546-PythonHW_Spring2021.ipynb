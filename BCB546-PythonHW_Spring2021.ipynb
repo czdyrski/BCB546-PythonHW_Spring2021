{
 "cells": [
  {
   "cell_type": "markdown",
   "id": "eafab909",
   "metadata": {},
   "source": [
    "Christopher Zdyrski Python Assignment\n",
    "Due: 5/5/2021\n",
    "Github repository with neccesary files\n",
    "https://github.com/czdyrski/BCB546-PythonHW_Spring2021"
   ]
  },
  {
   "cell_type": "markdown",
   "id": "0114a7fd",
   "metadata": {},
   "source": [
    "Install and import necessary packages"
   ]
  },
  {
   "cell_type": "code",
   "execution_count": 56,
   "id": "8058145e",
   "metadata": {},
   "outputs": [],
   "source": [
    "#Confirm that python, biopython, and seaborn are installed and up to date\n",
    "#import packages\n",
    "from Bio import SeqIO\n",
    "from Bio.Data import CodonTable\n",
    "from Bio.Seq import Seq\n",
    "from Bio.SeqUtils.ProtParam import ProteinAnalysis\n",
    "import pandas as pd\n",
    "import matplotlib.pyplot as plt"
   ]
  },
  {
   "cell_type": "markdown",
   "id": "61fd5ada",
   "metadata": {},
   "source": [
    "Function #1: Retrieve Sequences"
   ]
  },
  {
   "cell_type": "code",
   "execution_count": 57,
   "id": "304db237",
   "metadata": {},
   "outputs": [],
   "source": [
    "#It gets sequence data from a fasta file type and return a dictionary\n",
    "\n",
    "def get_sequences_from_file(fasta_fn):\n",
    "    \n",
    "    #makes a dictionary variable\n",
    "    sequence_data_dict = {}\n",
    "    \n",
    "    #creates a variable description  and parses out the names and seqeunces\n",
    "    for record in SeqIO.parse(fasta_fn, \"fasta\"):\n",
    "        description = record.description.split()\n",
    "        species_name = description[1] + \" \" + description[2]\n",
    "        sequence_data_dict[species_name] = record.seq\n",
    "        \n",
    "    #returns the completed dictionary    \n",
    "    return(sequence_data_dict)"
   ]
  },
  {
   "cell_type": "markdown",
   "id": "93196c39",
   "metadata": {},
   "source": [
    "Function #2 Translates Function"
   ]
  },
  {
   "cell_type": "code",
   "execution_count": 58,
   "id": "eb71a25f",
   "metadata": {},
   "outputs": [],
   "source": [
    "#Takes a string of nucleotides and translates it to a list of amino acids\n",
    "def translate_function(string_nucleotides): \n",
    "    \n",
    "    mito_table = CodonTable.unambiguous_dna_by_name[\"Vertebrate Mitochondrial\"]\n",
    "    \n",
    "    #Make a blank variable to hold amino acid seqence\n",
    "    #For loop to cycle through each codon do this by groups of 3's\n",
    "\n",
    "    #Loops through every third nucleotide to identify the codons\n",
    "    raw_codon = [string_nucleotides[i:i+3] for i in range(0, len(string_nucleotides), 3)]\n",
    "    \n",
    "    #Makes a blank list\n",
    "    aa_seq_string = []\n",
    "                                                                                 \n",
    "    #For loop to search for the word \"stop\" codon\n",
    "    for location in raw_codon:\n",
    "        aa = mito_table.forward_table.get(location, \"Stop\")\n",
    "        if aa == \"Stop\":\n",
    "            break\n",
    "        #If not a stop codon it appends it the the growing list of amino acids\n",
    "        else:\n",
    "            aa_seq_string.append(aa)\n",
    "\n",
    "    #Saw how to concatenate the list on Stack Overflow\n",
    "    #https://stackoverflow.com/questions/4166641/how-can-i-optimally-concat-a-list-of-chars-to-a-string\n",
    "    \n",
    "    #Return amino acids translated from nucleotides\n",
    "    return(''.join(aa_seq_string))       "
   ]
  },
  {
   "cell_type": "markdown",
   "id": "cfc695fb",
   "metadata": {},
   "source": [
    "Function #3: Alternative Translation Function "
   ]
  },
  {
   "cell_type": "code",
   "execution_count": 59,
   "id": "6861b724",
   "metadata": {},
   "outputs": [],
   "source": [
    "#This is my own translation function taking a string of nucleotides and converting them to amino acid using Biopython\n",
    "#Biopython tutorial and help\n",
    "#https://biopython.org/docs/1.75/api/Bio.Seq.html\n",
    "\n",
    "def alternative_translation_function(string_nucleotides): \n",
    "    \n",
    "    #For description of the table option and to_stop option\n",
    "    #https://biopython.org/wiki/Seq\n",
    "    translated_sequence = string_nucleotides.translate(table=2, to_stop=True)\n",
    "    \n",
    "    return(translated_sequence)"
   ]
  },
  {
   "cell_type": "markdown",
   "id": "18e2174b",
   "metadata": {},
   "source": [
    "Function #4: Molecular Weight"
   ]
  },
  {
   "cell_type": "code",
   "execution_count": 60,
   "id": "c12b0ad6",
   "metadata": {},
   "outputs": [],
   "source": [
    "#Calculates the molecular weight of each amino acid sequence\n",
    "#Function takes in an amino acid sequence as a string and outputs a moleuclar weight as a double\n",
    "def compute_molecular_weight(aa_seq):\n",
    "    \n",
    "        #The ProtParam functions requires aa_seq to be a string\n",
    "        #Ran the ProteinAnalysis() function on aa_seq\n",
    "        protein_analysis_output = ProteinAnalysis(str(aa_seq))\n",
    "\n",
    "        mol_weight = protein_analysis_output.molecular_weight()\n",
    "        \n",
    "        #Return the molecular weight\n",
    "        return(mol_weight)"
   ]
  },
  {
   "cell_type": "markdown",
   "id": "be034c8f",
   "metadata": {},
   "source": [
    "Function #5: GC Content"
   ]
  },
  {
   "cell_type": "code",
   "execution_count": 61,
   "id": "4c2b9c22",
   "metadata": {},
   "outputs": [],
   "source": [
    "#Computes the GC-content of each DNA sequence\n",
    "#Function takes in a DNA sequence and returns the GC content as a double\n",
    "#Setup loop from this resource https://www.w3schools.com/python/python_for_loops.asp\n",
    "\n",
    "def compute_gc_content(dna_seq):\n",
    "    \n",
    "    #Initialize i and gc_total to 0\n",
    "    i = 0\n",
    "    gc_total = 0\n",
    "    \n",
    "    #Read through each nucleotide and if it is a C or G increase total by 1\n",
    "    for i in dna_seq:\n",
    "\n",
    "        #Count if nucleotide is either G or C\n",
    "        if ((i == \"G\") or (i == \"C\")):\n",
    "            gc_total = gc_total + 1\n",
    "\n",
    "    #Divide the total GC content by the length of the DNA sequence and multiply it by 100\n",
    "    gc_content = ((gc_total) / (len(dna_seq))) * 100\n",
    "    \n",
    "    #Return the proprotion of GC in the total sequence\n",
    "    return(gc_content)"
   ]
  },
  {
   "cell_type": "markdown",
   "id": "02cb0d48",
   "metadata": {},
   "source": [
    "####Main####\n",
    "     This is where I use the functions I finished above"
   ]
  },
  {
   "cell_type": "code",
   "execution_count": 62,
   "id": "fc389e7b",
   "metadata": {},
   "outputs": [],
   "source": [
    "#Getting sequences form a Fasta file, turning it into a dataframe, and then a list\n",
    "cytb_seqs = get_sequences_from_file(\"bears_cytb.fasta\") \n",
    "\n",
    "bears_df = pd.read_csv(\"bears_mass.csv\") # Includes only data for body mass \n",
    "species_list = list(bears_df.species)"
   ]
  },
  {
   "cell_type": "markdown",
   "id": "b707991d",
   "metadata": {},
   "source": [
    "Step 6: Add Columns"
   ]
  },
  {
   "cell_type": "code",
   "execution_count": 63,
   "id": "21b5070a",
   "metadata": {},
   "outputs": [
    {
     "name": "stdout",
     "output_type": "stream",
     "text": [
      "                  species     mass\n",
      "0          Ursus spelaeus  550.800\n",
      "1            Ursus arctos  203.500\n",
      "2        Ursus thibetanus   99.714\n",
      "3        Melursus ursinus  100.030\n",
      "4        Ursus americanus  110.560\n",
      "5     Helarctos malayanus   47.020\n",
      "6  Ailuropoda melanoleuca  118.200\n",
      "7      Tremarctos ornatus  140.700\n",
      "8         Ursus maritimus  425.100\n",
      "                  species     mass Molecular_Weight GC_content\n",
      "0          Ursus spelaeus  550.800              NaN        NaN\n",
      "1            Ursus arctos  203.500              NaN        NaN\n",
      "2        Ursus thibetanus   99.714              NaN        NaN\n",
      "3        Melursus ursinus  100.030              NaN        NaN\n",
      "4        Ursus americanus  110.560              NaN        NaN\n",
      "5     Helarctos malayanus   47.020              NaN        NaN\n",
      "6  Ailuropoda melanoleuca  118.200              NaN        NaN\n",
      "7      Tremarctos ornatus  140.700              NaN        NaN\n",
      "8         Ursus maritimus  425.100              NaN        NaN\n"
     ]
    }
   ],
   "source": [
    "#Used this resource to add new columns quickly\n",
    "#https://re-thought.com/how-to-add-new-columns-in-a-dataframe-in-pandas/\n",
    "\n",
    "#prints original two column table with empty columns\n",
    "print(bears_df)\n",
    "\n",
    "bears_df['Molecular_Weight'] = 'NaN'\n",
    "bears_df['GC_content'] = 'NaN'\n",
    "\n",
    "#prints table with two new empty columns\n",
    "print(bears_df)"
   ]
  },
  {
   "cell_type": "markdown",
   "id": "2ca38eaf",
   "metadata": {},
   "source": [
    "Step 7: For Loop"
   ]
  },
  {
   "cell_type": "code",
   "execution_count": 64,
   "id": "4aaf5f69",
   "metadata": {},
   "outputs": [
    {
     "name": "stdout",
     "output_type": "stream",
     "text": [
      "                  species     mass Molecular_Weight GC_content\n",
      "0          Ursus spelaeus  550.800       42458.7992   43.77193\n",
      "1            Ursus arctos  203.500       42414.7435   43.77193\n",
      "2        Ursus thibetanus   99.714       42306.6735  45.614035\n",
      "3        Melursus ursinus  100.030         42551.99  45.175439\n",
      "4        Ursus americanus  110.560       42427.7439  43.947368\n",
      "5     Helarctos malayanus   47.020        42560.891  44.298246\n",
      "6  Ailuropoda melanoleuca  118.200       42702.1845  40.789474\n",
      "7      Tremarctos ornatus  140.700       42384.8266  44.385965\n",
      "8         Ursus maritimus  425.100       42454.7873  44.298246\n"
     ]
    }
   ],
   "source": [
    "#Initialize row variable to the first row\n",
    "row = 0\n",
    "\n",
    "for key, value in cytb_seqs.items():\n",
    "    \n",
    "    aa_seq = translate_function(value)\n",
    "    \n",
    "    #get the molecular weight of aa_seq and fills in dataframe\n",
    "    calculated_mol_weight = compute_molecular_weight(aa_seq)\n",
    "    bears_df.loc[row, \"Molecular_Weight\"] = calculated_mol_weight\n",
    "    \n",
    "    #get the GC content of the DNA sequence and fills in dataframe\n",
    "    calculated_gc_content = compute_gc_content(value)\n",
    "    bears_df.loc[row, \"GC_content\"] = calculated_gc_content\n",
    "    \n",
    "    #iterate through the rows by adding one each time\n",
    "    row = row + 1\n",
    "\n",
    "#View filled in dataframe\n",
    "print(bears_df)"
   ]
  },
  {
   "cell_type": "code",
   "execution_count": 65,
   "id": "5f10428a",
   "metadata": {},
   "outputs": [],
   "source": [
    "#Need this line in order to plot in Jupyter notebook or Spyder\n",
    "#Used the class resource website https://eeob-biodata.github.io/BCB546X-python/05-seaborn-viz/\n",
    "\n",
    "%matplotlib inline"
   ]
  },
  {
   "cell_type": "markdown",
   "id": "09be1ba4",
   "metadata": {},
   "source": [
    "Step 8: Bar-chart"
   ]
  },
  {
   "cell_type": "code",
   "execution_count": 66,
   "id": "3d3ba2bb",
   "metadata": {},
   "outputs": [
    {
     "data": {
      "text/plain": [
       "<AxesSubplot:title={'center':'Mass of Each Bear Species'}, xlabel='species'>"
      ]
     },
     "execution_count": 66,
     "metadata": {},
     "output_type": "execute_result"
    },
    {
     "data": {
      "image/png": "[encoded data removed]",
      "text/plain": [
       "<Figure size 432x288 with 1 Axes>"
      ]
     },
     "metadata": {
      "needs_background": "light"
     },
     "output_type": "display_data"
    }
   ],
   "source": [
    "bears_df.plot(x = \"species\", y = \"mass\", kind = \"bar\", title = \"Mass of Each Bear Species\")"
   ]
  },
  {
   "cell_type": "markdown",
   "id": "668c9f88",
   "metadata": {},
   "source": [
    "Q1: What is the largest bear species?\n",
    "#The largest species of bear is Ursus spelaeous with a mass of 550.8.\n",
    "Q2: What else is interesting about this species?\n",
    "Q2: It's is also interesting that this species went extinct but in 2013 researhcers were able to sequence mitochondrial DNA from a bone fragment of an individual which dated back more than 300,000 years.\n",
    "#Source https://www.britannica.com/animal/cave-bear"
   ]
  },
  {
   "cell_type": "markdown",
   "id": "28f9ca7c",
   "metadata": {},
   "source": [
    "Step 9: Plot"
   ]
  },
  {
   "cell_type": "code",
   "execution_count": 67,
   "id": "22d8f1ab",
   "metadata": {},
   "outputs": [
    {
     "data": {
      "text/plain": [
       "<AxesSubplot:title={'center':'Molecular Weight vs GC content across Bear Species'}, xlabel='Molecular_Weight', ylabel='GC_content'>"
      ]
     },
     "execution_count": 67,
     "metadata": {},
     "output_type": "execute_result"
    },
    {
     "data": {
      "image/png": "[encoded data removed]",
      "text/plain": [
       "<Figure size 432x288 with 1 Axes>"
      ]
     },
     "metadata": {
      "needs_background": "light"
     },
     "output_type": "display_data"
    }
   ],
   "source": [
    "bears_df.plot(x = \"Molecular_Weight\", y = \"GC_content\", kind = \"scatter\", title = \"Molecular Weight vs GC content across Bear Species\")"
   ]
  },
  {
   "cell_type": "markdown",
   "id": "f6f93c5e",
   "metadata": {},
   "source": [
    "Step 10: New Dataframe"
   ]
  },
  {
   "cell_type": "code",
   "execution_count": 68,
   "id": "b39b3289",
   "metadata": {},
   "outputs": [],
   "source": [
    "#Simply save the dataframe to a csv file\n",
    "bears_df.to_csv(\"bears_mass_cytb.csv\")"
   ]
  },
  {
   "cell_type": "markdown",
   "id": "6d0c19f2",
   "metadata": {},
   "source": [
    "Step 11: Bonus"
   ]
  },
  {
   "cell_type": "code",
   "execution_count": 69,
   "id": "73564096",
   "metadata": {},
   "outputs": [],
   "source": [
    "#Some other interesting things that can be done include:\n",
    "#Identifying how many PAMs are present for CRISPR/Cas9 (NGG)\n",
    "#Scanning the Fasta seqeunces for certain genetic factors (repeats, inverted terminal repeats aka transposons)\n",
    "#Look for homology across species by using a sliding window approach\n",
    "#Could probably use Biopython to make a phyologeny, see below\n",
    "#from Bio import Phylo, Bio.Phylo.BaseTree\n",
    "#https://biopython.org/wiki/Phylo"
   ]
  },
  {
   "cell_type": "code",
   "execution_count": null,
   "id": "bb16d16f",
   "metadata": {},
   "outputs": [],
   "source": [
    "#Confirm what data types each variable are\n",
    "#https://stackoverflow.com/questions/37718907/variable-explorer-in-jupyter-notebook"
   ]
  },
  {
   "cell_type": "code",
   "execution_count": 75,
   "id": "3097c5cb",
   "metadata": {},
   "outputs": [
    {
     "name": "stdout",
     "output_type": "stream",
     "text": [
      "Variable                           Type         Data/Info\n",
      "---------------------------------------------------------\n",
      "CodonTable                         module       <module 'Bio.Data.CodonTa<...>io\\\\Data\\\\CodonTable.py'>\n",
      "ProteinAnalysis                    type         <class 'Bio.SeqUtils.ProtParam.ProteinAnalysis'>\n",
      "Seq                                type         <class 'Bio.Seq.Seq'>\n",
      "SeqIO                              module       <module 'Bio.SeqIO' from <...>Bio\\\\SeqIO\\\\__init__.py'>\n",
      "aa_seq                             str          MTNIRKTHPLAKIINNSFIDLPTPS<...>SILYFTILLVLMPIAGIIENNLLKW\n",
      "alternative_translation_function   function     <function alternative_tra<...>on at 0x0000029BAB7194C0>\n",
      "bears_df                           DataFrame                      species<...>    42454.7873  44.298246\n",
      "calculated_gc_content              float        44.29824561403509\n",
      "calculated_mol_weight              float        42454.78729999998\n",
      "compute_gc_content                 function     <function compute_gc_cont<...>nt at 0x0000029BAB752040>\n",
      "compute_molecular_weight           function     <function compute_molecul<...>ht at 0x0000029BAA530310>\n",
      "cytb_seqs                          dict         n=9\n",
      "get_sequences_from_file            function     <function get_sequences_f<...>le at 0x0000029BAB719F70>\n",
      "key                                str          Ursus maritimus\n",
      "pd                                 module       <module 'pandas' from 'C:<...>es\\\\pandas\\\\__init__.py'>\n",
      "plt                                module       <module 'matplotlib.pyplo<...>\\\\matplotlib\\\\pyplot.py'>\n",
      "row                                int          9\n",
      "species_list                       list         n=9\n",
      "translate_function                 function     <function translate_funct<...>on at 0x0000029BA6AF3D30>\n",
      "value                              Seq          ATGACCAACATCCGAAAAACCCACC<...>TGAAAACAACCTCTTAAAGTGGAGA\n"
     ]
    }
   ],
   "source": [
    "whos"
   ]
  }
 ],
 "metadata": {
  "kernelspec": {
   "display_name": "Python 3",
   "language": "python",
   "name": "python3"
  },
  "language_info": {
   "codemirror_mode": {
    "name": "ipython",
    "version": 3
   },
   "file_extension": ".py",
   "mimetype": "text/x-python",
   "name": "python",
   "nbconvert_exporter": "python",
   "pygments_lexer": "ipython3",
   "version": "3.8.8"
  }
 },
 "nbformat": 4,
 "nbformat_minor": 5
}
